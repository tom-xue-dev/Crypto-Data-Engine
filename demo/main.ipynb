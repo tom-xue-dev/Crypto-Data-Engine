{
 "cells": [
  {
   "cell_type": "code",
   "execution_count": null,
   "metadata": {},
   "outputs": [],
   "source": [
    "import numpy as np\n",
    "\n",
    "from sklearn.model_selection import train_test_split\n",
    "\n",
    "from utils import (\n",
    "    my_seed,\n",
    "    alpha_list,\n",
    "    load_dataset,\n",
    "    dataset_report,\n",
    "    print_model_report,\n",
    ")\n",
    "from model_wrapper import ModelWrapper"
   ]
  },
  {
   "cell_type": "markdown",
   "metadata": {},
   "source": [
    "加载数据"
   ]
  },
  {
   "cell_type": "code",
   "execution_count": null,
   "metadata": {},
   "outputs": [
    {
     "name": "stdout",
     "output_type": "stream",
     "text": [
      "特征：\n",
      "zscore_APO beta_zscore return_skew ILLIQ corr corr_std alpha1 alpha8 alpha10 alpha19 alpha26 alpha32 alpha35 alpha46\n",
      "特征总数：14\n",
      "包含 NaN 或无穷大（Inf）的行：[]\n",
      "X: (535131, 14)\n",
      "[[ 1.35639350e+00 -3.13393177e-01  3.02169959e-01  1.51933598e-07\n",
      "   1.34883748e-01  1.26106751e-01  1.50000000e+00  2.68213457e-02\n",
      "  -2.32742708e-02 -1.57602556e+00 -9.44911183e-01  1.76570611e-03\n",
      "   4.76074219e-02 -2.32742708e-02]\n",
      " [-1.07010639e+00 -6.40950806e-01  2.85141136e-01  4.50198321e-07\n",
      "   9.30560185e-02  1.32341710e-01  5.00000000e-01 -1.42121361e-02\n",
      "   3.20479078e-02 -1.55717532e+00 -9.08108272e-01  1.80811777e-03\n",
      "   5.85937500e-02  3.20479078e-02]\n",
      " [-1.64297242e+00  1.87571524e-01  3.15151708e-02  2.49803289e-07\n",
      "   1.42281215e-02  1.44264445e-01  2.50000000e+00 -4.94967150e-02\n",
      "   1.38891170e-02  1.55020665e+00 -5.97614305e-01  1.82156403e-03\n",
      "   1.03759766e-02  1.38891170e-02]\n",
      " [-2.00222771e+00  6.46902201e-01 -3.88721968e-01  2.81973240e-07\n",
      "  -1.69425017e-03  1.55859164e-01  1.50000000e+00 -2.94796622e-02\n",
      "  -1.46551200e-02  1.54860193e+00 -6.45497224e-01  1.80149722e-03\n",
      "   3.51562500e-02 -1.46551200e-02]\n",
      " [-5.36756088e-01  8.48494832e+00  2.30456994e+00  2.23527872e-07\n",
      "   1.63646361e-01  1.28270261e-01  5.00000000e-01  2.10719990e-02\n",
      "  -2.04630170e-02  1.57001187e+00 -9.43022516e-01  1.77229612e-03\n",
      "   1.75781250e-02 -2.04630170e-02]]\n",
      "y: (535131,)\n",
      "[2 1 1 1 1]\n",
      "y各类别的比例：\n",
      "类别 0: 0.36\n",
      "类别 1: 0.33\n",
      "类别 2: 0.32\n"
     ]
    }
   ],
   "source": [
    "X, y, features = load_dataset(alpha_list, \"data/data (33).pkl\")\n",
    "dataset_report(X, y, features)"
   ]
  },
  {
   "cell_type": "markdown",
   "metadata": {},
   "source": [
    "划分训练集和测试集"
   ]
  },
  {
   "cell_type": "code",
   "execution_count": null,
   "metadata": {},
   "outputs": [
    {
     "name": "stdout",
     "output_type": "stream",
     "text": [
      "[[ 3.95393482e-01 -2.09067771e+00 -1.56265060e+00  4.43563614e-10\n",
      "  -2.71697621e-01  1.05709819e-01  3.50000000e+00 -1.25309911e-02\n",
      "   1.04451898e-03 -9.22976706e-01 -1.86816179e-01  1.82192680e-03\n",
      "   3.22143555e-01  1.00000000e+00]\n",
      " [-3.33620176e-01 -2.00861893e-01 -5.24863855e-01  7.09642567e-07\n",
      "  -1.92112291e-01  7.88485134e-02  2.50000000e+00 -1.02545320e-02\n",
      "   3.70917502e-02 -4.85288183e-01 -1.66666667e-01  1.75333859e-03\n",
      "   1.42822266e-01  3.70917502e-02]\n",
      " [-4.69190938e-01  6.99332360e+00  1.54890978e+00  1.70365946e-06\n",
      "   3.12236291e-01  9.65316624e-02  4.50000000e+00 -1.12305386e-02\n",
      "  -5.26760256e-02  1.53768759e+00 -1.00000000e+00  1.96725242e-03\n",
      "   2.80761719e-02  1.00000000e+00]\n",
      " [-8.63844080e-01 -1.09782921e+00 -5.35160781e-01  2.79059780e-07\n",
      "  -5.36193515e-02  8.33205353e-02  1.50000000e+00 -2.66513701e-03\n",
      "   1.40475648e-02  1.03868932e+00  8.57492926e-02  1.70131624e-03\n",
      "   3.28125000e-01  1.00000000e+00]\n",
      " [ 8.75118119e-02  9.64867976e-01  1.45808204e-01  5.45497150e-08\n",
      "   5.14536316e-02  1.12387885e-01  3.50000000e+00  1.49557742e-02\n",
      "   3.14906456e-02 -1.25879760e+00 -4.98970133e-01  1.74625162e-03\n",
      "   1.27563477e-01  1.00000000e+00]]\n",
      "[0 1 2 2 1]\n"
     ]
    }
   ],
   "source": [
    "X_train, X_test, y_train, y_test = train_test_split(\n",
    "    X, y, test_size=0.3, random_state=my_seed\n",
    ")\n",
    "# from sklearn.preprocessing import MinMaxScaler, StandardScaler\n",
    "\n",
    "# scaler = MinMaxScaler()\n",
    "# scaler = StandardScaler()\n",
    "\n",
    "# X_train = scaler.fit_transform(X_train)\n",
    "# X_test = scaler.transform(X_test)\n",
    "\n",
    "print(X_train[:5, :])\n",
    "print(y_train[:5])"
   ]
  },
  {
   "cell_type": "markdown",
   "metadata": {},
   "source": [
    "模型设置"
   ]
  },
  {
   "cell_type": "code",
   "execution_count": null,
   "metadata": {},
   "outputs": [],
   "source": [
    "wrapper = ModelWrapper(\"MLP\", X_train, y_train)"
   ]
  },
  {
   "cell_type": "markdown",
   "metadata": {},
   "source": [
    "训练"
   ]
  },
  {
   "cell_type": "code",
   "execution_count": null,
   "metadata": {},
   "outputs": [],
   "source": [
    "wrapper.train()"
   ]
  },
  {
   "cell_type": "markdown",
   "metadata": {},
   "source": [
    "打印训练报告"
   ]
  },
  {
   "cell_type": "code",
   "execution_count": 4,
   "metadata": {},
   "outputs": [
    {
     "name": "stdout",
     "output_type": "stream",
     "text": [
      "\u001b[1m11706/11706\u001b[0m \u001b[32m━━━━━━━━━━━━━━━━━━━━\u001b[0m\u001b[37m\u001b[0m \u001b[1m8s\u001b[0m 669us/step\n",
      "\u001b[1m5017/5017\u001b[0m \u001b[32m━━━━━━━━━━━━━━━━━━━━\u001b[0m\u001b[37m\u001b[0m \u001b[1m5s\u001b[0m 924us/step - accuracy: 0.4790 - loss: 1.0025\n",
      "\u001b[1m5017/5017\u001b[0m \u001b[32m━━━━━━━━━━━━━━━━━━━━\u001b[0m\u001b[37m\u001b[0m \u001b[1m3s\u001b[0m 648us/step\n",
      "特征：zscore_APO beta_zscore return_skew ILLIQ corr corr_std alpha1 alpha8 alpha10 alpha19 alpha26 alpha32 alpha35 alpha46\n",
      "特征总数：14\n",
      "-----------------------训练集---------------------------\n",
      "分类报告：\n",
      "              precision    recall  f1-score   support\n",
      "\n",
      "           0       0.50      0.85      0.63    133172\n",
      "           1       0.44      0.41      0.43    122740\n",
      "           2       0.52      0.14      0.22    118679\n",
      "\n",
      "    accuracy                           0.48    374591\n",
      "   macro avg       0.49      0.47      0.43    374591\n",
      "weighted avg       0.49      0.48      0.43    374591\n",
      "\n",
      "详细报告：\n",
      "\n",
      "针对类别1：\n",
      "  实际类别1被预测为类别2的概率： 11.37%\n",
      "  实际类别1被预测为类别0的概率： 47.20%\n",
      "\n",
      "针对类别2：\n",
      "  实际类别2被预测为类别1的概率： 39.10%\n",
      "  实际类别2被预测为类别0的概率： 46.66%\n",
      "\n",
      "-----------------------测试集---------------------------\n",
      "Loss: 1.0006985664367676\n",
      "准确率：48.18%\n",
      "分类报告：\n",
      "              precision    recall  f1-score   support\n",
      "\n",
      "           0       0.50      0.84      0.63     57429\n",
      "           1       0.44      0.41      0.42     52649\n",
      "           2       0.52      0.14      0.22     50462\n",
      "\n",
      "    accuracy                           0.48    160540\n",
      "   macro avg       0.48      0.47      0.42    160540\n",
      "weighted avg       0.48      0.48      0.43    160540\n",
      "\n",
      "详细报告：\n",
      "\n",
      "针对类别1：\n",
      "  实际类别1被预测为类别2的概率： 11.35%\n",
      "  实际类别1被预测为类别0的概率： 47.51%\n",
      "\n",
      "针对类别2：\n",
      "  实际类别2被预测为类别1的概率： 39.38%\n",
      "  实际类别2被预测为类别0的概率： 46.40%\n",
      "\n",
      "----------------------baseline-------------------------\n",
      "分类报告：\n",
      "              precision    recall  f1-score   support\n",
      "\n",
      "           0       0.36      0.34      0.35     57429\n",
      "           1       0.33      0.33      0.33     52649\n",
      "           2       0.32      0.33      0.32     50462\n",
      "\n",
      "    accuracy                           0.34    160540\n",
      "   macro avg       0.34      0.34      0.34    160540\n",
      "weighted avg       0.34      0.34      0.34    160540\n",
      "\n",
      "详细报告：\n",
      "\n",
      "针对类别1：\n",
      "  实际类别1被预测为类别2的概率： 33.63%\n",
      "  实际类别1被预测为类别0的概率： 32.91%\n",
      "\n",
      "针对类别2：\n",
      "  实际类别2被预测为类别1的概率： 32.92%\n",
      "  实际类别2被预测为类别0的概率： 33.63%\n",
      "\n"
     ]
    }
   ],
   "source": [
    "import joblib\n",
    "\n",
    "model = joblib.load(r\"models\\MLP-20250213-201721.pkl\")\n",
    "print_model_report(\n",
    "    model,\n",
    "    X_train=X_train,\n",
    "    y_train=y_train,\n",
    "    X_test=X_test,\n",
    "    y_test=y_test,\n",
    "    features=features,\n",
    ")"
   ]
  },
  {
   "cell_type": "markdown",
   "metadata": {},
   "source": [
    "保存模型"
   ]
  },
  {
   "cell_type": "code",
   "execution_count": null,
   "metadata": {},
   "outputs": [],
   "source": [
    "wrapper.save()"
   ]
  },
  {
   "cell_type": "markdown",
   "metadata": {},
   "source": [
    "打开tensorboard"
   ]
  },
  {
   "cell_type": "code",
   "execution_count": null,
   "metadata": {},
   "outputs": [],
   "source": [
    "%tensorboard --logdir logs/fit"
   ]
  },
  {
   "cell_type": "markdown",
   "metadata": {},
   "source": [
    "清除jupyter中的所有变量"
   ]
  },
  {
   "cell_type": "code",
   "execution_count": null,
   "metadata": {},
   "outputs": [],
   "source": [
    "for name in dir():\n",
    "    if not name.startswith('_'):\n",
    "        del globals()[name]"
   ]
  }
 ],
 "metadata": {
  "kernelspec": {
   "display_name": "Python 3",
   "language": "python",
   "name": "python3"
  },
  "language_info": {
   "codemirror_mode": {
    "name": "ipython",
    "version": 3
   },
   "file_extension": ".py",
   "mimetype": "text/x-python",
   "name": "python",
   "nbconvert_exporter": "python",
   "pygments_lexer": "ipython3",
   "version": "3.11.5"
  }
 },
 "nbformat": 4,
 "nbformat_minor": 2
}
